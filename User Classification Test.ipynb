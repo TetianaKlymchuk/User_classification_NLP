{
 "cells": [
  {
   "cell_type": "markdown",
   "metadata": {},
   "source": [
    "## Testing User Classification"
   ]
  },
  {
   "cell_type": "markdown",
   "metadata": {},
   "source": [
    "<hr>"
   ]
  },
  {
   "cell_type": "markdown",
   "metadata": {},
   "source": [
    "First let's select some random users from Twitter and label them."
   ]
  },
  {
   "cell_type": "code",
   "execution_count": 1,
   "metadata": {},
   "outputs": [],
   "source": [
    "from user_classification import *"
   ]
  },
  {
   "cell_type": "code",
   "execution_count": 2,
   "metadata": {},
   "outputs": [],
   "source": [
    "import twitter\n",
    "\n",
    "CONSUMER_KEY = 'oEWIMZpIUQCULqXLVAydLsUoT'\n",
    "CONSUMER_SECRET = 'F31ZPD7rRlzkrsbmE5JqMs8tWQjLrD3TxkNObNNeHz2nBbDwnt'\n",
    "OAUTH_TOKEN = '1303957818169585664-5xyRbIo7kcM19IQjT7t2OdtBS5G0hw'\n",
    "OAUTH_TOKEN_SECRET = 'WKZNyiVxqMyfxL3JoHiaU30axOrpGu7YasKjtmYhnz2Ym'\n",
    "\n",
    "auth = twitter.oauth.OAuth(OAUTH_TOKEN,\n",
    "                          OAUTH_TOKEN_SECRET, \n",
    "                          CONSUMER_KEY, \n",
    "                          CONSUMER_SECRET)\n",
    "\n",
    "twitter_api = twitter.Twitter(auth=auth)"
   ]
  },
  {
   "cell_type": "code",
   "execution_count": 3,
   "metadata": {},
   "outputs": [],
   "source": [
    "# df = pd.read_csv('Data/labelled_users.csv')"
   ]
  },
  {
   "cell_type": "code",
   "execution_count": 4,
   "metadata": {},
   "outputs": [],
   "source": [
    "# user = list(df.screen_name.to_numpy())\n",
    "# label = list(df.clas_2.to_numpy())"
   ]
  },
  {
   "cell_type": "code",
   "execution_count": 5,
   "metadata": {},
   "outputs": [],
   "source": [
    "def lowercase(x):\n",
    "    return x.lower()"
   ]
  },
  {
   "cell_type": "code",
   "execution_count": 6,
   "metadata": {},
   "outputs": [],
   "source": [
    "# label = [lowercase(x) for x in label]"
   ]
  },
  {
   "cell_type": "markdown",
   "metadata": {},
   "source": [
    "users = [('VictorCollell','personal'),\n",
    "         ('LaVanguardia', 'news'),\n",
    "         ('Repsol', 'business'),\n",
    "         ('Basetis', 'business'),\n",
    "         ('Palomero14', 'personal')]\n",
    "\n",
    "user = [u for u, l in users]\n",
    "label = [l for u, l in users]"
   ]
  },
  {
   "cell_type": "code",
   "execution_count": 7,
   "metadata": {},
   "outputs": [],
   "source": [
    "dataset = Dataset()"
   ]
  },
  {
   "cell_type": "code",
   "execution_count": 8,
   "metadata": {},
   "outputs": [],
   "source": [
    "# dataset.add_list_user(twitter_api, user, label)\n",
    "dataset.load(path='Data/test.csv')"
   ]
  },
  {
   "cell_type": "code",
   "execution_count": 9,
   "metadata": {},
   "outputs": [
    {
     "data": {
      "text/plain": [
       "150"
      ]
     },
     "execution_count": 9,
     "metadata": {},
     "output_type": "execute_result"
    }
   ],
   "source": [
    "len(dataset.df)"
   ]
  },
  {
   "cell_type": "code",
   "execution_count": 10,
   "metadata": {},
   "outputs": [
    {
     "data": {
      "text/html": [
       "<div>\n",
       "<style scoped>\n",
       "    .dataframe tbody tr th:only-of-type {\n",
       "        vertical-align: middle;\n",
       "    }\n",
       "\n",
       "    .dataframe tbody tr th {\n",
       "        vertical-align: top;\n",
       "    }\n",
       "\n",
       "    .dataframe thead th {\n",
       "        text-align: right;\n",
       "    }\n",
       "</style>\n",
       "<table border=\"1\" class=\"dataframe\">\n",
       "  <thead>\n",
       "    <tr style=\"text-align: right;\">\n",
       "      <th></th>\n",
       "      <th>collective_activeness</th>\n",
       "      <th>collective_influence</th>\n",
       "      <th>degree_inclination</th>\n",
       "      <th>fav_count</th>\n",
       "      <th>label</th>\n",
       "      <th>life_time</th>\n",
       "      <th>mentions</th>\n",
       "      <th>plain_statuses</th>\n",
       "      <th>promotion_score</th>\n",
       "      <th>replies_given</th>\n",
       "      <th>retweets</th>\n",
       "      <th>std_hashtags</th>\n",
       "      <th>std_url</th>\n",
       "      <th>total_hashtag</th>\n",
       "      <th>total_url</th>\n",
       "      <th>user</th>\n",
       "      <th>verified</th>\n",
       "    </tr>\n",
       "  </thead>\n",
       "  <tbody>\n",
       "    <tr>\n",
       "      <th>0</th>\n",
       "      <td>497.6</td>\n",
       "      <td>651.0</td>\n",
       "      <td>4.8</td>\n",
       "      <td>573.0</td>\n",
       "      <td>personal</td>\n",
       "      <td>9.188227</td>\n",
       "      <td>14.0</td>\n",
       "      <td>0.0</td>\n",
       "      <td>10.0</td>\n",
       "      <td>2.0</td>\n",
       "      <td>6.0</td>\n",
       "      <td>0.674949</td>\n",
       "      <td>0.421637</td>\n",
       "      <td>3.0</td>\n",
       "      <td>2.0</td>\n",
       "      <td>RepsolJackLeeds</td>\n",
       "      <td>0.0</td>\n",
       "    </tr>\n",
       "    <tr>\n",
       "      <th>1</th>\n",
       "      <td>1080.9</td>\n",
       "      <td>6275.0</td>\n",
       "      <td>1.8</td>\n",
       "      <td>5423.0</td>\n",
       "      <td>personal</td>\n",
       "      <td>2.617385</td>\n",
       "      <td>2.0</td>\n",
       "      <td>0.0</td>\n",
       "      <td>17.0</td>\n",
       "      <td>0.0</td>\n",
       "      <td>1.0</td>\n",
       "      <td>2.108185</td>\n",
       "      <td>0.316228</td>\n",
       "      <td>40.0</td>\n",
       "      <td>1.0</td>\n",
       "      <td>artemania2018</td>\n",
       "      <td>0.0</td>\n",
       "    </tr>\n",
       "    <tr>\n",
       "      <th>2</th>\n",
       "      <td>4866.6</td>\n",
       "      <td>49343.0</td>\n",
       "      <td>0.0</td>\n",
       "      <td>2278.0</td>\n",
       "      <td>corporative</td>\n",
       "      <td>9.577002</td>\n",
       "      <td>9.0</td>\n",
       "      <td>0.0</td>\n",
       "      <td>17.0</td>\n",
       "      <td>0.0</td>\n",
       "      <td>0.0</td>\n",
       "      <td>0.843274</td>\n",
       "      <td>0.483046</td>\n",
       "      <td>4.0</td>\n",
       "      <td>3.0</td>\n",
       "      <td>Repsol</td>\n",
       "      <td>1.0</td>\n",
       "    </tr>\n",
       "    <tr>\n",
       "      <th>3</th>\n",
       "      <td>3287.2</td>\n",
       "      <td>1197.0</td>\n",
       "      <td>4.2</td>\n",
       "      <td>902.0</td>\n",
       "      <td>personal</td>\n",
       "      <td>10.830938</td>\n",
       "      <td>5.0</td>\n",
       "      <td>0.0</td>\n",
       "      <td>23.0</td>\n",
       "      <td>1.0</td>\n",
       "      <td>3.0</td>\n",
       "      <td>1.763834</td>\n",
       "      <td>0.516398</td>\n",
       "      <td>10.0</td>\n",
       "      <td>4.0</td>\n",
       "      <td>JuanBellas</td>\n",
       "      <td>0.0</td>\n",
       "    </tr>\n",
       "    <tr>\n",
       "      <th>4</th>\n",
       "      <td>943.7</td>\n",
       "      <td>324.0</td>\n",
       "      <td>3.2</td>\n",
       "      <td>19.0</td>\n",
       "      <td>personal</td>\n",
       "      <td>9.979466</td>\n",
       "      <td>10.0</td>\n",
       "      <td>0.0</td>\n",
       "      <td>13.0</td>\n",
       "      <td>0.0</td>\n",
       "      <td>8.0</td>\n",
       "      <td>0.843274</td>\n",
       "      <td>0.000000</td>\n",
       "      <td>6.0</td>\n",
       "      <td>0.0</td>\n",
       "      <td>tarteka</td>\n",
       "      <td>0.0</td>\n",
       "    </tr>\n",
       "  </tbody>\n",
       "</table>\n",
       "</div>"
      ],
      "text/plain": [
       "   collective_activeness  collective_influence  degree_inclination  fav_count  \\\n",
       "0                  497.6                 651.0                 4.8      573.0   \n",
       "1                 1080.9                6275.0                 1.8     5423.0   \n",
       "2                 4866.6               49343.0                 0.0     2278.0   \n",
       "3                 3287.2                1197.0                 4.2      902.0   \n",
       "4                  943.7                 324.0                 3.2       19.0   \n",
       "\n",
       "         label  life_time  mentions  plain_statuses  promotion_score  \\\n",
       "0     personal   9.188227      14.0             0.0             10.0   \n",
       "1     personal   2.617385       2.0             0.0             17.0   \n",
       "2  corporative   9.577002       9.0             0.0             17.0   \n",
       "3     personal  10.830938       5.0             0.0             23.0   \n",
       "4     personal   9.979466      10.0             0.0             13.0   \n",
       "\n",
       "   replies_given  retweets  std_hashtags   std_url  total_hashtag  total_url  \\\n",
       "0            2.0       6.0      0.674949  0.421637            3.0        2.0   \n",
       "1            0.0       1.0      2.108185  0.316228           40.0        1.0   \n",
       "2            0.0       0.0      0.843274  0.483046            4.0        3.0   \n",
       "3            1.0       3.0      1.763834  0.516398           10.0        4.0   \n",
       "4            0.0       8.0      0.843274  0.000000            6.0        0.0   \n",
       "\n",
       "              user  verified  \n",
       "0  RepsolJackLeeds       0.0  \n",
       "1    artemania2018       0.0  \n",
       "2           Repsol       1.0  \n",
       "3       JuanBellas       0.0  \n",
       "4          tarteka       0.0  "
      ]
     },
     "execution_count": 10,
     "metadata": {},
     "output_type": "execute_result"
    }
   ],
   "source": [
    "dataset.df.head()"
   ]
  },
  {
   "cell_type": "code",
   "execution_count": 11,
   "metadata": {},
   "outputs": [],
   "source": [
    "# dataset.save(path='Data/test_multi_class_2.csv')"
   ]
  },
  {
   "cell_type": "code",
   "execution_count": 12,
   "metadata": {},
   "outputs": [],
   "source": [
    "# data = dataset.get_training_data()"
   ]
  },
  {
   "cell_type": "code",
   "execution_count": 13,
   "metadata": {},
   "outputs": [],
   "source": [
    "data = dataset.get_training_data(test_size = 0.2, to_categorical=False)"
   ]
  },
  {
   "cell_type": "code",
   "execution_count": 14,
   "metadata": {},
   "outputs": [
    {
     "name": "stdout",
     "output_type": "stream",
     "text": [
      "Model: \"sequential\"\n",
      "_________________________________________________________________\n",
      "Layer (type)                 Output Shape              Param #   \n",
      "=================================================================\n",
      "dense (Dense)                (None, 128)               2048      \n",
      "_________________________________________________________________\n",
      "activation (Activation)      (None, 128)               0         \n",
      "_________________________________________________________________\n",
      "dense_1 (Dense)              (None, 128)               16512     \n",
      "_________________________________________________________________\n",
      "activation_1 (Activation)    (None, 128)               0         \n",
      "_________________________________________________________________\n",
      "dense_2 (Dense)              (None, 1)                 129       \n",
      "_________________________________________________________________\n",
      "activation_2 (Activation)    (None, 1)                 0         \n",
      "=================================================================\n",
      "Total params: 18,689\n",
      "Trainable params: 18,689\n",
      "Non-trainable params: 0\n",
      "_________________________________________________________________\n"
     ]
    }
   ],
   "source": [
    "model = Model(model_type='mlp_binary')"
   ]
  },
  {
   "cell_type": "code",
   "execution_count": 15,
   "metadata": {},
   "outputs": [
    {
     "name": "stdout",
     "output_type": "stream",
     "text": [
      "Epoch 1/12\n",
      "60/60 [==============================] - 1s 11ms/step - loss: 0.5720 - accuracy: 0.7333\n",
      "Epoch 2/12\n",
      "60/60 [==============================] - 1s 11ms/step - loss: 0.4111 - accuracy: 0.8500\n",
      "Epoch 3/12\n",
      "60/60 [==============================] - 1s 14ms/step - loss: 0.3715 - accuracy: 0.8583\n",
      "Epoch 4/12\n",
      "60/60 [==============================] - 1s 11ms/step - loss: 0.3233 - accuracy: 0.8833\n",
      "Epoch 5/12\n",
      "60/60 [==============================] - 1s 12ms/step - loss: 0.3090 - accuracy: 0.8833\n",
      "Epoch 6/12\n",
      "60/60 [==============================] - 0s 8ms/step - loss: 0.3071 - accuracy: 0.8750\n",
      "Epoch 7/12\n",
      "60/60 [==============================] - 1s 12ms/step - loss: 0.2840 - accuracy: 0.9083\n",
      "Epoch 8/12\n",
      "60/60 [==============================] - 1s 11ms/step - loss: 0.2665 - accuracy: 0.8917\n",
      "Epoch 9/12\n",
      "60/60 [==============================] - 1s 11ms/step - loss: 0.2810 - accuracy: 0.8667\n",
      "Epoch 10/12\n",
      "60/60 [==============================] - 1s 10ms/step - loss: 0.2631 - accuracy: 0.9083\n",
      "Epoch 11/12\n",
      "60/60 [==============================] - 1s 9ms/step - loss: 0.2522 - accuracy: 0.9000\n",
      "Epoch 12/12\n",
      "60/60 [==============================] - 0s 6ms/step - loss: 0.2492 - accuracy: 0.8917\n"
     ]
    }
   ],
   "source": [
    "model.train(data, n_epochs=12)"
   ]
  },
  {
   "cell_type": "code",
   "execution_count": 16,
   "metadata": {},
   "outputs": [
    {
     "name": "stdout",
     "output_type": "stream",
     "text": [
      "15/15 [==============================] - 0s 8ms/step - loss: 0.2436 - accuracy: 0.9000\n"
     ]
    },
    {
     "data": {
      "text/plain": [
       "[0.2436286062002182, 0.8999999761581421]"
      ]
     },
     "execution_count": 16,
     "metadata": {},
     "output_type": "execute_result"
    }
   ],
   "source": [
    "model.evaluate(data)"
   ]
  },
  {
   "cell_type": "code",
   "execution_count": 17,
   "metadata": {},
   "outputs": [],
   "source": [
    "model.save(name='16_09_v1.h5')"
   ]
  },
  {
   "cell_type": "code",
   "execution_count": 18,
   "metadata": {},
   "outputs": [],
   "source": [
    "#model = Model(model_type='mlp', name='test_multi_class.h5')"
   ]
  },
  {
   "cell_type": "code",
   "execution_count": 19,
   "metadata": {},
   "outputs": [],
   "source": [
    "test_dataset = Dataset()\n",
    "test_dataset.load('Data/test_set_dataset.csv')"
   ]
  },
  {
   "cell_type": "code",
   "execution_count": 20,
   "metadata": {},
   "outputs": [],
   "source": [
    "# df = pd.read_csv('Data/test_set.csv')"
   ]
  },
  {
   "cell_type": "code",
   "execution_count": 21,
   "metadata": {},
   "outputs": [],
   "source": [
    "# user = list(df.screen_name.to_numpy())\n",
    "# label = list(df.clas_1.to_numpy())"
   ]
  },
  {
   "cell_type": "code",
   "execution_count": 22,
   "metadata": {},
   "outputs": [],
   "source": [
    "# new_dataset = Dataset()\n",
    "# new_dataset.add_list_user(twitter_api, user, label)"
   ]
  },
  {
   "cell_type": "code",
   "execution_count": 23,
   "metadata": {},
   "outputs": [],
   "source": [
    "# new_dataset.save('Data/test_set_dataset.csv')"
   ]
  },
  {
   "cell_type": "code",
   "execution_count": 24,
   "metadata": {},
   "outputs": [
    {
     "name": "stdout",
     "output_type": "stream",
     "text": [
      "\n",
      " Accuracy: 0.58\n"
     ]
    },
    {
     "data": {
      "text/plain": [
       "0.58"
      ]
     },
     "execution_count": 24,
     "metadata": {},
     "output_type": "execute_result"
    }
   ],
   "source": [
    "model.test_set(test_dataset)"
   ]
  },
  {
   "cell_type": "code",
   "execution_count": 25,
   "metadata": {},
   "outputs": [],
   "source": [
    "columns = list(test_dataset.df.columns)\n",
    "columns.remove('user')\n",
    "columns.remove('label')\n",
    "pred = model.predict(test_dataset.get_data(columns))"
   ]
  },
  {
   "cell_type": "code",
   "execution_count": 26,
   "metadata": {},
   "outputs": [],
   "source": [
    "y = test_dataset.df.label.to_numpy()"
   ]
  },
  {
   "cell_type": "code",
   "execution_count": 27,
   "metadata": {},
   "outputs": [],
   "source": [
    "y = [x.lower() for x in y]\n",
    "y = np.array(y)"
   ]
  },
  {
   "cell_type": "code",
   "execution_count": 28,
   "metadata": {},
   "outputs": [
    {
     "name": "stdout",
     "output_type": "stream",
     "text": [
      "['corporative' 'corporative' 'corporative' 'personal' 'corporative'\n",
      " 'corporative' 'personal' 'personal' 'personal' 'corporative' 'personal'\n",
      " 'corporative' 'personal' 'personal' 'personal' 'corporative' 'personal'\n",
      " 'corporative' 'corporative' 'corporative' 'personal' 'personal'\n",
      " 'corporative' 'personal' 'personal' 'personal' 'personal' 'corporative'\n",
      " 'corporative' 'personal' 'corporative' 'personal' 'personal'\n",
      " 'corporative' 'corporative' 'corporative' 'corporative' 'corporative'\n",
      " 'corporative' 'personal' 'corporative' 'corporative' 'corporative'\n",
      " 'personal' 'corporative' 'corporative' 'personal' 'corporative'\n",
      " 'personal' 'personal']\n"
     ]
    }
   ],
   "source": [
    "print(y[:])"
   ]
  },
  {
   "cell_type": "code",
   "execution_count": 29,
   "metadata": {},
   "outputs": [
    {
     "name": "stdout",
     "output_type": "stream",
     "text": [
      "['personal' 'personal' 'personal' 'personal' 'personal' 'personal'\n",
      " 'personal' 'personal' 'personal' 'corporative' 'personal' 'corporative'\n",
      " 'personal' 'personal' 'personal' 'personal' 'personal' 'corporative'\n",
      " 'corporative' 'personal' 'personal' 'personal' 'corporative' 'personal'\n",
      " 'personal' 'personal' 'personal' 'corporative' 'personal' 'personal'\n",
      " 'personal' 'personal' 'personal' 'personal' 'personal' 'personal'\n",
      " 'personal' 'personal' 'personal' 'personal' 'personal' 'corporative'\n",
      " 'personal' 'personal' 'personal' 'personal' 'corporative' 'personal'\n",
      " 'personal' 'personal']\n"
     ]
    }
   ],
   "source": [
    "print(pred[:])"
   ]
  },
  {
   "cell_type": "code",
   "execution_count": 30,
   "metadata": {},
   "outputs": [
    {
     "data": {
      "text/plain": [
       "29"
      ]
     },
     "execution_count": 30,
     "metadata": {},
     "output_type": "execute_result"
    }
   ],
   "source": [
    "np.sum(y==pred)"
   ]
  },
  {
   "cell_type": "code",
   "execution_count": 31,
   "metadata": {},
   "outputs": [
    {
     "data": {
      "text/plain": [
       "50"
      ]
     },
     "execution_count": 31,
     "metadata": {},
     "output_type": "execute_result"
    }
   ],
   "source": [
    "len(y)"
   ]
  }
 ],
 "metadata": {
  "kernelspec": {
   "display_name": "Python 3",
   "language": "python",
   "name": "python3"
  },
  "language_info": {
   "codemirror_mode": {
    "name": "ipython",
    "version": 3
   },
   "file_extension": ".py",
   "mimetype": "text/x-python",
   "name": "python",
   "nbconvert_exporter": "python",
   "pygments_lexer": "ipython3",
   "version": "3.6.10"
  }
 },
 "nbformat": 4,
 "nbformat_minor": 4
}
